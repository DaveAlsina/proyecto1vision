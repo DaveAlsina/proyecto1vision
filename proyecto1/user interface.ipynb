{
 "cells": [
  {
   "cell_type": "code",
   "execution_count": 1,
   "id": "e637a164",
   "metadata": {},
   "outputs": [],
   "source": [
    "from defs import * \n",
    "import ipywidgets as widgets\n",
    "from IPython.display import clear_output"
   ]
  },
  {
   "cell_type": "code",
   "execution_count": 2,
   "id": "8e658b16",
   "metadata": {
    "scrolled": true
   },
   "outputs": [],
   "source": [
    "style = {'description_width': 'initial'}\n",
    "opts = [\"Detección de bordes con kernel sobel\", \"Detección de bordes con kernel laplace\",\n",
    "       \"Difuminado de la imagen\", \"Aumento de nitidez sobel\", \"Aumento de nitidez laplace\",\n",
    "        \"Ecualización de histograma\"]\n",
    "\n",
    "options_dropdown = widgets.Dropdown(options = opts,\n",
    "                                 description = \"Seleccione un modo: \", \n",
    "                                 style = style,\n",
    "                                 layout= widgets.Layout(width='70%', height='100%')\n",
    "                                )\n",
    "\n",
    "kernel_sz = widgets.widgets.FloatSlider(\n",
    "                                value=3,\n",
    "                                min=3,\n",
    "                                max=90,\n",
    "                                step=2,\n",
    "                                description='Tamaño del kernel (Solo aplica para \"Difuminado de la imagen\"):',\n",
    "                                disabled=False,\n",
    "                                continuous_update=False,\n",
    "                                orientation='horizontal',\n",
    "                                readout=True,\n",
    "                                readout_format='.2f',\n",
    "                                style = style,\n",
    "                                layout= widgets.Layout(width='80%', height='100%')\n",
    "                            )\n",
    "\n",
    "visualize = widgets.Button(description='Empezar video')\n",
    "\n"
   ]
  },
  {
   "cell_type": "code",
   "execution_count": 3,
   "id": "ab786d65",
   "metadata": {},
   "outputs": [],
   "source": [
    "def show_video():\n",
    "\n",
    "    vid = cv2.VideoCapture(0)\n",
    "    while(True):\n",
    "\n",
    "        # Capture the video frame\n",
    "        # by frame\n",
    "        ret, frame = vid.read()\n",
    "\n",
    "        ''' Border Detection '''\n",
    "        \n",
    "        if \"sobel\" in options_dropdown.value:\n",
    "            cv2.imshow('frame', sobelFilter(frame))\n",
    "            \n",
    "        if \"laplace\" in options_dropdown.value:\n",
    "            cv2.imshow('frame', laplaceFilter(frame))\n",
    "            \n",
    "\n",
    "            \n",
    "        ''' Blurring Effect '''\n",
    "        \n",
    "        if \"Difuminado\" in options_dropdown.value:\n",
    "            cv2.imshow('frame', blurFilter(frame,\n",
    "                                           blur_weights = np.ones(int(kernel_sz.value))/int(kernel_sz.value))\n",
    "                      )\n",
    "\n",
    "        ''' Sharpness '''  \n",
    "        \n",
    "        if \"nitidez sobel\" in options_dropdown.value:\n",
    "            cv2.imshow('frame', sharpness_sobel(frame))  \n",
    "            \n",
    "        if \"nitidez laplace\"  in options_dropdown.value:\n",
    "            cv2.imshow('frame', sharpness_laplace(frame)) \n",
    "            \n",
    "            \n",
    "            \n",
    "        '''Histogram Equalization'''\n",
    "        \n",
    "        if \"histograma\" in options_dropdown.value:\n",
    "            cv2.imshow('frame', equalize_hsv_channel(frame, 2))\n",
    "            \n",
    "        # the 'q' button is set as the\n",
    "        # quitting button you may use any\n",
    "        # desired button of your choice\n",
    "        if cv2.waitKey(1) & 0xFF == ord('q'):\n",
    "            break\n",
    "\n",
    "    # After the loop release the cap object\n",
    "    vid.release()\n",
    "    # Destroy all the windows\n",
    "    cv2.destroyAllWindows()\n",
    "    clear_output()"
   ]
  },
  {
   "cell_type": "markdown",
   "id": "altered-pound",
   "metadata": {},
   "source": [
    "#### Nota: Para cerrar la ventana de vídeo, se debe presionar la tecla q hasta que la cámara se desactive."
   ]
  },
  {
   "cell_type": "code",
   "execution_count": 9,
   "id": "42043409",
   "metadata": {},
   "outputs": [],
   "source": [
    "def visualize_on_click(btn_object):\n",
    "    \n",
    "    show_video()\n",
    "    \n",
    "visualize.on_click(visualize_on_click)\n",
    "\n",
    "display(options_dropdown)\n",
    "display(kernel_sz)\n",
    "display(visualize)"
   ]
  }
 ],
 "metadata": {
  "kernelspec": {
   "display_name": "Python 3",
   "language": "python",
   "name": "python3"
  },
  "language_info": {
   "codemirror_mode": {
    "name": "ipython",
    "version": 3
   },
   "file_extension": ".py",
   "mimetype": "text/x-python",
   "name": "python",
   "nbconvert_exporter": "python",
   "pygments_lexer": "ipython3",
   "version": "3.8.6"
  }
 },
 "nbformat": 4,
 "nbformat_minor": 5
}
